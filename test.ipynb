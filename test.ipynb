{
 "cells": [
  {
   "cell_type": "code",
   "execution_count": 1,
   "metadata": {},
   "outputs": [
    {
     "name": "stdout",
     "output_type": "stream",
     "text": [
      "True\n",
      "Number of CUDA devices:  1\n",
      "Device 0: NVIDIA GeForce RTX 4090\n"
     ]
    }
   ],
   "source": [
    "import torch\n",
    "\n",
    "print(torch.cuda.is_available())\n",
    "\n",
    "# 如果CUDA可用，打印出设备数量和名称\n",
    "if torch.cuda.is_available():\n",
    "    print(\"Number of CUDA devices: \", torch.cuda.device_count())\n",
    "    for i in range(torch.cuda.device_count()):\n",
    "        print(f\"Device {i}: {torch.cuda.get_device_name(i)}\")\n",
    "else:\n",
    "    print(\"CUDA is not available. Please check your PyTorch installation and CUDA setup.\")"
   ]
  },
  {
   "cell_type": "code",
   "execution_count": 3,
   "metadata": {},
   "outputs": [
    {
     "name": "stdout",
     "output_type": "stream",
     "text": [
      "Using downloaded and verified file: datasets/VOC2012/VOCtrainval_11-May-2012.tar\n"
     ]
    }
   ],
   "source": [
    "from unet_backbones.datasets import VOCSegmentation\n",
    "from unet_backbones.utils import ext_transforms as et\n",
    "\n",
    "data_root = \"datasets/VOC2012\"\n",
    "year = \"2012\"\n",
    "download = True\n",
    "crop_size = 512\n",
    "train_transform = et.ExtCompose([\n",
    "            # et.ExtResize(size=opts.crop_size),\n",
    "            et.ExtRandomScale((0.5, 2.0)),\n",
    "            et.ExtRandomCrop(size=(crop_size, crop_size), pad_if_needed=True),\n",
    "            et.ExtRandomHorizontalFlip(),\n",
    "            et.ExtToTensor(),\n",
    "        ])\n",
    "\n",
    "train_dst = VOCSegmentation(root = data_root, \n",
    "                            year = year, \n",
    "                            image_set='train', \n",
    "                            download=download, \n",
    "                            transform=train_transform)"
   ]
  },
  {
   "cell_type": "code",
   "execution_count": null,
   "metadata": {},
   "outputs": [],
   "source": []
  }
 ],
 "metadata": {
  "kernelspec": {
   "display_name": "Python 3 (ipykernel)",
   "language": "python",
   "name": "python3"
  },
  "language_info": {
   "codemirror_mode": {
    "name": "ipython",
    "version": 3
   },
   "file_extension": ".py",
   "mimetype": "text/x-python",
   "name": "python",
   "nbconvert_exporter": "python",
   "pygments_lexer": "ipython3",
   "version": "3.10.8"
  }
 },
 "nbformat": 4,
 "nbformat_minor": 4
}
